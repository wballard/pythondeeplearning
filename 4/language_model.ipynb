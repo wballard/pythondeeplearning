{
 "cells": [
  {
   "cell_type": "markdown",
   "metadata": {},
   "source": [
    "Now as a project, we'll experiment with recurrent networks and learn a *language model*. A language model is simply a network that predicts the next word or character when trained on a set of data. \n",
    "\n",
    "We'll train on a set of quotes, and create our own inspirational quote generator."
   ]
  },
  {
   "cell_type": "code",
   "execution_count": 1,
   "metadata": {},
   "outputs": [
    {
     "name": "stderr",
     "output_type": "stream",
     "text": [
      "/opt/conda/lib/python3.6/site-packages/h5py/__init__.py:36: FutureWarning: Conversion of the second argument of issubdtype from `float` to `np.floating` is deprecated. In future, it will be treated as `np.float64 == np.dtype(float).type`.\n",
      "  from ._conv import register_converters as _register_converters\n",
      "Using TensorFlow backend.\n"
     ]
    }
   ],
   "source": [
    "from ipywidgets import FloatProgress\n",
    "from IPython.display import display\n",
    "\n",
    "import mxnet as mx\n",
    "from mxnet import nd, autograd\n",
    "import matplotlib.pyplot as plt\n",
    "from mxnet import gluon, autograd\n",
    "from mxnet.gluon import nn, rnn\n",
    "mx.random.seed(1)\n",
    "# switch this to cpu if you don't have a gpu\n",
    "#ctx = mx.cpu()\n",
    "context = mx.gpu()\n",
    "\n",
    "from keras.preprocessing.text import Tokenizer"
   ]
  },
  {
   "cell_type": "code",
   "execution_count": 2,
   "metadata": {},
   "outputs": [],
   "source": [
    "with open(\"../quotes.txt\", 'r', encoding='utf8') as f:\n",
    "    quotes = f.read().lower()"
   ]
  },
  {
   "cell_type": "markdown",
   "metadata": {},
   "source": [
    "Now, we cannot exactly use text as is, we need to turn it into numbers. To do this, we'll use the `Tokenizer` to generate word to number mappings."
   ]
  },
  {
   "cell_type": "code",
   "execution_count": 3,
   "metadata": {},
   "outputs": [],
   "source": [
    "tokenizer = Tokenizer()\n",
    "tokenizer.fit_on_texts([quotes])"
   ]
  },
  {
   "cell_type": "markdown",
   "metadata": {},
   "source": [
    "Now we have a list of numbers rather than a string of characters."
   ]
  },
  {
   "cell_type": "code",
   "execution_count": 4,
   "metadata": {},
   "outputs": [
    {
     "data": {
      "text/plain": [
       "[790, 12, 3252, 4715, 13, 123, 56, 790, 1, 217]"
      ]
     },
     "execution_count": 4,
     "metadata": {},
     "output_type": "execute_result"
    }
   ],
   "source": [
    "ordinals = tokenizer.texts_to_sequences([quotes])[0]\n",
    "ordinals[0:10]"
   ]
  },
  {
   "cell_type": "markdown",
   "metadata": {},
   "source": [
    "Hmm -- how many unique words did we find?"
   ]
  },
  {
   "cell_type": "code",
   "execution_count": 5,
   "metadata": {},
   "outputs": [
    {
     "data": {
      "text/plain": [
       "35454"
      ]
     },
     "execution_count": 5,
     "metadata": {},
     "output_type": "execute_result"
    }
   ],
   "source": [
    "len(tokenizer.word_index)"
   ]
  },
  {
   "cell_type": "markdown",
   "metadata": {},
   "source": [
    "OK -- working with sequences, we need something to predict. That will be -- the next character. So, for any given sequence of a given length, the next character from the source text will be the output. This means we'll be taking out one hot array and chopping it into sequences for input, and single characters as output.\n",
    "\n",
    "This will take a *while*."
   ]
  },
  {
   "cell_type": "code",
   "execution_count": 6,
   "metadata": {},
   "outputs": [],
   "source": [
    "sequence_length = 32\n",
    "chunks = len(ordinals) // sequence_length\n",
    "inputs = []\n",
    "outputs = []\n",
    "for i in range(0, (chunks*sequence_length)-sequence_length):\n",
    "    inputs.append(nd.array(ordinals[i:i+sequence_length], dtype='int32'))\n",
    "    #careful here -- easy to end up off-by-one\n",
    "    outputs.append(nd.array([ordinals[i+sequence_length]], dtype='int32').one_hot(len(tokenizer.word_index)))"
   ]
  },
  {
   "cell_type": "markdown",
   "metadata": {},
   "source": [
    "Create a dataset, we'll use this for the actual training loop."
   ]
  },
  {
   "cell_type": "code",
   "execution_count": 7,
   "metadata": {},
   "outputs": [],
   "source": [
    "batch_size = 32\n",
    "dataset = mx.gluon.data.dataset.ArrayDataset(inputs, outputs)\n",
    "data_loader = mx.gluon.data.DataLoader(dataset, batch_size=batch_size)"
   ]
  },
  {
   "cell_type": "markdown",
   "metadata": {},
   "source": [
    "Now we'll do a bit more advanced gluon -- and make a network that can encode and decode a recurrent string network.\n",
    "\n",
    "This starts with embedding the integer representing each word -- this turns an index of a single word into a floating point array better suited for machine learning. Then we run a recurrent network -- it loops over each word position, feeding the network into itself on each step. \n",
    "\n",
    "Finally, we do a dense output to generate one hot encodings for outputs.\n",
    "\n",
    "We're going to use RMSProp, since we had great learning results with it earlier. And -- softmax cross entropy loss -- but we'll set the `sparse_label=False` because we're have one hot encodings as our output labels as well as out model output from our dense layer."
   ]
  },
  {
   "cell_type": "code",
   "execution_count": 8,
   "metadata": {},
   "outputs": [],
   "source": [
    "vocabulary_size = len(tokenizer.word_index)\n",
    "number_embedding_layers = 128\n",
    "number_hidden_layers = 256\n",
    "number_layers = 2\n",
    "dropout = 0.2\n",
    "\n",
    "\n",
    "model =  gluon.nn.Sequential()\n",
    "model.add(gluon.nn.Embedding(vocabulary_size, number_embedding_layers))\n",
    "model.add(gluon.rnn.LSTM(number_hidden_layers, number_layers, dropout=dropout))\n",
    "model.add(gluon.nn.BatchNorm(2))\n",
    "model.add(gluon.nn.Dropout(dropout))\n",
    "model.add(gluon.nn.Dense(vocabulary_size, activation='relu', flatten=True))\n",
    "model.initialize(mx.init.Xavier(), ctx=context)\n",
    "\n",
    "trainer = gluon.Trainer(model.collect_params(), 'rmsprop')\n",
    "loss = gluon.loss.SoftmaxCrossEntropyLoss(sparse_label=False)"
   ]
  },
  {
   "cell_type": "code",
   "execution_count": 9,
   "metadata": {},
   "outputs": [],
   "source": [
    "def learn(model, trainer, loss_function, batch_size):\n",
    "    \n",
    "    epochs = 512\n",
    "    losses = []\n",
    "    \n",
    "    f = FloatProgress(min=0, max=epochs) # instantiate the bar\n",
    "    display(f) # display the bar\n",
    "    for e in range(epochs):\n",
    "        for input_batch, output_batch in data_loader:\n",
    "            input_batch = input_batch.as_in_context(context)\n",
    "            output_batch = output_batch.as_in_context(context)\n",
    "            with autograd.record():\n",
    "                predicted = model(input_batch)\n",
    "                loss = loss_function(predicted, output_batch)\n",
    "                loss.backward()\n",
    "            trainer.step(input_batch.shape[0])\n",
    "            break\n",
    "\n",
    "        f.value += 1\n",
    "        losses.append(nd.sum(loss).asscalar())\n",
    "    return losses"
   ]
  },
  {
   "cell_type": "code",
   "execution_count": 10,
   "metadata": {},
   "outputs": [
    {
     "data": {
      "application/vnd.jupyter.widget-view+json": {
       "model_id": "5b9429e4ed964cddad8b8dffabfeecb8",
       "version_major": 2,
       "version_minor": 0
      },
      "text/plain": [
       "FloatProgress(value=0.0, max=512.0)"
      ]
     },
     "metadata": {},
     "output_type": "display_data"
    }
   ],
   "source": [
    "losses = learn(model, trainer, loss, batch_size)"
   ]
  },
  {
   "cell_type": "code",
   "execution_count": 11,
   "metadata": {},
   "outputs": [],
   "source": [
    "import numpy as np\n",
    "def plot_loss(total_loss):\n",
    "    x_axis = np.linspace(0, len(total_loss), len(total_loss), endpoint=True)\n",
    "    plt.semilogy(x_axis, total_loss)\n",
    "    plt.xlabel('epoch')\n",
    "    plt.ylabel('loss')\n",
    "    plt.show()"
   ]
  },
  {
   "cell_type": "code",
   "execution_count": 12,
   "metadata": {},
   "outputs": [
    {
     "data": {
      "image/png": "[encoded data removed]",
      "text/plain": [
       "<Figure size 432x288 with 1 Axes>"
      ]
     },
     "metadata": {},
     "output_type": "display_data"
    },
    {
     "data": {
      "text/plain": [
       "7.498249e-05"
      ]
     },
     "execution_count": 12,
     "metadata": {},
     "output_type": "execute_result"
    }
   ],
   "source": [
    "plot_loss(losses)\n",
    "losses[-1]"
   ]
  },
  {
   "cell_type": "markdown",
   "metadata": {},
   "source": [
    "Now - we can use our language model to generate some text. We'll need out own softmax function."
   ]
  },
  {
   "cell_type": "code",
   "execution_count": 13,
   "metadata": {},
   "outputs": [],
   "source": [
    "def softmax(y_linear, temperature=1.0):\n",
    "    lin = (y_linear-nd.max(y_linear, axis=1).reshape((-1,1))) / temperature # shift each row of y_linear by its max\n",
    "    exp = nd.exp(lin)\n",
    "    partition =nd.sum(exp, axis=1).reshape((-1,1))\n",
    "    return exp / partition"
   ]
  },
  {
   "cell_type": "markdown",
   "metadata": {},
   "source": [
    "Each string will need to be in a matrix, and formulated as a 'batch'. We'll space pre-pad, and trim as needed to make sure we are the correct sequence length for our model.\n",
    "\n",
    "This will work on the tails of strings, so we can keep tacking characters on to a base seed and continue to generate output."
   ]
  },
  {
   "cell_type": "code",
   "execution_count": 14,
   "metadata": {},
   "outputs": [],
   "source": [
    "def encode_string(s, max_len=sequence_length):\n",
    "    ret = nd.zeros((sequence_length,), dtype='int32').as_in_context(context)\n",
    "    ordinals = tokenizer.texts_to_sequences([s])[0][-max_len:]\n",
    "    encoded = nd.array(ordinals, dtype='int32').as_in_context(context)\n",
    "    ret[-len(encoded):] = encoded\n",
    "    return ret.expand_dims(0)"
   ]
  },
  {
   "cell_type": "code",
   "execution_count": 15,
   "metadata": {},
   "outputs": [
    {
     "data": {
      "text/plain": [
       "\n",
       "[[ 0  0  0  0  0  0  0  0  0  0  0  0  0  0  0  0  0  0  0  0  0  0  0  0\n",
       "   0  0  0  0  0 37 19 32]]\n",
       "<NDArray 1x32 @gpu(0)>"
      ]
     },
     "execution_count": 15,
     "metadata": {},
     "output_type": "execute_result"
    }
   ],
   "source": [
    "encode_string('Can we have')"
   ]
  },
  {
   "cell_type": "markdown",
   "metadata": {},
   "source": [
    "And we'll make a decoder function that turns a model output into a character."
   ]
  },
  {
   "cell_type": "code",
   "execution_count": 16,
   "metadata": {},
   "outputs": [],
   "source": [
    "def decode_string(model_output):\n",
    "    return tokenizer.sequences_to_texts([[softmax(model_output).argmax(1).astype('int32').asscalar()]])"
   ]
  },
  {
   "cell_type": "code",
   "execution_count": 17,
   "metadata": {},
   "outputs": [
    {
     "data": {
      "text/plain": [
       "['can']"
      ]
     },
     "execution_count": 17,
     "metadata": {},
     "output_type": "execute_result"
    }
   ],
   "source": [
    "decode_string(nd.array([37], dtype='int32').one_hot(len(tokenizer.word_index)))"
   ]
  },
  {
   "cell_type": "markdown",
   "metadata": {},
   "source": [
    "Now we can use our model and start to make predictions."
   ]
  },
  {
   "cell_type": "markdown",
   "metadata": {},
   "source": [
    "And now -- the finale -- generating strings with our model."
   ]
  },
  {
   "cell_type": "code",
   "execution_count": 18,
   "metadata": {},
   "outputs": [],
   "source": [
    "def generate(seed, max_length=64):\n",
    "    gen = seed\n",
    "    while True:\n",
    "        to_append = decode_string(model(encode_string(gen)))[0]\n",
    "        gen = gen + ' ' + to_append\n",
    "        if to_append == '\\n' or len(gen) == max_length:\n",
    "            return gen"
   ]
  },
  {
   "cell_type": "code",
   "execution_count": null,
   "metadata": {},
   "outputs": [],
   "source": [
    "generate('Can we have a paper')"
   ]
  },
  {
   "cell_type": "code",
   "execution_count": null,
   "metadata": {},
   "outputs": [],
   "source": []
  }
 ],
 "metadata": {
  "kernelspec": {
   "display_name": "Python 3",
   "language": "python",
   "name": "python3"
  },
  "language_info": {
   "codemirror_mode": {
    "name": "ipython",
    "version": 3
   },
   "file_extension": ".py",
   "mimetype": "text/x-python",
   "name": "python",
   "nbconvert_exporter": "python",
   "pygments_lexer": "ipython3",
   "version": "3.6.5"
  }
 },
 "nbformat": 4,
 "nbformat_minor": 2
}
