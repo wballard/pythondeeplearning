{
 "cells": [
  {
   "cell_type": "markdown",
   "metadata": {},
   "source": [
    "Looking into learning functions, let's visualize a really simple function -- where we just keep the values along a matrix diagonal stripe. We'll set up a bunch of random matrixes, and map those through just the diagonals of those matrixes.\n",
    "\n",
    "In order to see inside the learning process, and what the different learning functions actually do -- we'll inspect what is being learned with some animation. If all works out well, we'll 'learn' a diagonal mapping function!"
   ]
  },
  {
   "cell_type": "code",
   "execution_count": 1,
   "metadata": {},
   "outputs": [
    {
     "name": "stderr",
     "output_type": "stream",
     "text": [
      "/opt/conda/lib/python3.6/site-packages/h5py/__init__.py:36: FutureWarning: Conversion of the second argument of issubdtype from `float` to `np.floating` is deprecated. In future, it will be treated as `np.float64 == np.dtype(float).type`.\n",
      "  from ._conv import register_converters as _register_converters\n"
     ]
    }
   ],
   "source": [
    "import mxnet as mx\n",
    "import numpy as np\n",
    "from mxnet import nd, autograd, gluon\n",
    "import matplotlib.pyplot as plt"
   ]
  },
  {
   "cell_type": "markdown",
   "metadata": {},
   "source": [
    "This is our objective function -- we know what we are looking for, and much like solving an equation in good old algebra, we'll be using machine learning to figure out the answer. We'll take a look at it as an image."
   ]
  },
  {
   "cell_type": "code",
   "execution_count": 2,
   "metadata": {},
   "outputs": [
    {
     "data": {
      "text/plain": [
       "<matplotlib.image.AxesImage at 0x7f11d3db16d8>"
      ]
     },
     "execution_count": 2,
     "metadata": {},
     "output_type": "execute_result"
    },
    {
     "data": {
      "image/png": "[encoded data removed]",
      "text/plain": [
       "<Figure size 432x288 with 1 Axes>"
      ]
     },
     "metadata": {},
     "output_type": "display_data"
    }
   ],
   "source": [
    "size = (16, 16)\n",
    "objective = np.zeros(size)\n",
    "np.fill_diagonal(objective, 1)\n",
    "plt.imshow(objective, cmap='binary')"
   ]
  },
  {
   "cell_type": "markdown",
   "metadata": {},
   "source": [
    "Now - a set of random inputs and outputs."
   ]
  },
  {
   "cell_type": "code",
   "execution_count": 3,
   "metadata": {},
   "outputs": [],
   "source": [
    "inputs = [np.random.random(size) for i in range(10 * 1024)]\n",
    "outputs = [input * objective for input in inputs]"
   ]
  },
  {
   "cell_type": "markdown",
   "metadata": {},
   "source": [
    "Ok -- now let's look at what we've created -- some 'white noise' and then a nice extraction along the diagonal of that noise by multiplying the matrix."
   ]
  },
  {
   "cell_type": "code",
   "execution_count": 4,
   "metadata": {},
   "outputs": [
    {
     "data": {
      "text/plain": [
       "<matplotlib.image.AxesImage at 0x7f11d3b700f0>"
      ]
     },
     "execution_count": 4,
     "metadata": {},
     "output_type": "execute_result"
    },
    {
     "data": {
      "image/png": "[encoded data removed]",
      "text/plain": [
       "<Figure size 432x288 with 1 Axes>"
      ]
     },
     "metadata": {},
     "output_type": "display_data"
    }
   ],
   "source": [
    "plt.imshow(inputs[0], cmap='binary')"
   ]
  },
  {
   "cell_type": "code",
   "execution_count": 5,
   "metadata": {},
   "outputs": [
    {
     "data": {
      "text/plain": [
       "<matplotlib.image.AxesImage at 0x7f11d3b325f8>"
      ]
     },
     "execution_count": 5,
     "metadata": {},
     "output_type": "execute_result"
    },
    {
     "data": {
      "image/png": "[encoded data removed]",
      "text/plain": [
       "<Figure size 432x288 with 1 Axes>"
      ]
     },
     "metadata": {},
     "output_type": "display_data"
    }
   ],
   "source": [
    "plt.imshow(outputs[0], cmap='binary')"
   ]
  },
  {
   "cell_type": "markdown",
   "metadata": {},
   "source": [
    "OK -- now we'll set up to learn, starting with a random matrix. This is again white noise, and we'll be using machine learning to adjust the values to get to our nice solid diagonal stripe objective function.\n",
    "\n",
    "We're setting up an MxNet parameter."
   ]
  },
  {
   "cell_type": "code",
   "execution_count": 6,
   "metadata": {},
   "outputs": [
    {
     "data": {
      "text/plain": [
       "<matplotlib.image.AxesImage at 0x7f11b7dd1b70>"
      ]
     },
     "execution_count": 6,
     "metadata": {},
     "output_type": "execute_result"
    },
    {
     "data": {
      "image/png": "[encoded data removed]",
      "text/plain": [
       "<Figure size 432x288 with 1 Axes>"
      ]
     },
     "metadata": {},
     "output_type": "display_data"
    }
   ],
   "source": [
    "ctx = mx.cpu()\n",
    "params = gluon.parameter.ParameterDict('_')\n",
    "learned_diagonal = params.get('learned_diagonal', grad_req='write', shape=size)\n",
    "params.initialize(ctx=ctx)\n",
    "plt.imshow(learned_diagonal.data().asnumpy(), cmap='binary')"
   ]
  },
  {
   "cell_type": "markdown",
   "metadata": {},
   "source": [
    "This is a really simple network - a single multiplication, with a square loss function."
   ]
  },
  {
   "cell_type": "code",
   "execution_count": 7,
   "metadata": {},
   "outputs": [
    {
     "name": "stdout",
     "output_type": "stream",
     "text": [
      "Loss: 0.09845314174890518\n",
      "Loss: 0.07545284181833267\n",
      "Loss: 0.05782625824213028\n",
      "Loss: 0.04431762546300888\n",
      "Loss: 0.03396492451429367\n",
      "Loss: 0.02603093534708023\n",
      "Loss: 0.01995038613677025\n",
      "Loss: 0.015290269628167152\n",
      "Loss: 0.011718875728547573\n",
      "Loss: 0.008981775492429733\n"
     ]
    }
   ],
   "source": [
    "epochs = 10\n",
    "\n",
    "def net(input):\n",
    "    return input * learned_diagonal.data()\n",
    "\n",
    "\n",
    "square_loss = gluon.loss.L2Loss()\n",
    "optimizer = gluon.Trainer(params, 'sgd', {'learning_rate': 0.01})\n",
    "\n",
    "for e in range(epochs):\n",
    "    for i, (input, output) in enumerate(zip(inputs, outputs)):\n",
    "        input = nd.array(input).as_in_context(ctx)\n",
    "        output = nd.array(output).as_in_context(ctx)\n",
    "        with autograd.record():\n",
    "            predicted = net(input)\n",
    "            loss = square_loss(predicted, output)\n",
    "            loss.backward()\n",
    "        optimizer.step(input.shape[0])\n",
    "    #plt.imshow(learned_diagonal.data().asnumpy(), cmap='binary')\n",
    "    #break\n",
    "\n",
    "    print(\"Loss: {0}\".format(nd.sum(loss).asscalar()), flush=True)\n"
   ]
  },
  {
   "cell_type": "code",
   "execution_count": 8,
   "metadata": {},
   "outputs": [
    {
     "data": {
      "text/plain": [
       "<matplotlib.image.AxesImage at 0x7f11b7dbc630>"
      ]
     },
     "execution_count": 8,
     "metadata": {},
     "output_type": "execute_result"
    },
    {
     "data": {
      "image/png": "[encoded data removed]",
      "text/plain": [
       "<Figure size 432x288 with 1 Axes>"
      ]
     },
     "metadata": {},
     "output_type": "display_data"
    }
   ],
   "source": [
    "plt.imshow(learned_diagonal.data().asnumpy(), cmap='binary')"
   ]
  },
  {
   "cell_type": "code",
   "execution_count": null,
   "metadata": {},
   "outputs": [],
   "source": []
  }
 ],
 "metadata": {
  "kernelspec": {
   "display_name": "Python 3",
   "language": "python",
   "name": "python3"
  },
  "language_info": {
   "codemirror_mode": {
    "name": "ipython",
    "version": 3
   },
   "file_extension": ".py",
   "mimetype": "text/x-python",
   "name": "python",
   "nbconvert_exporter": "python",
   "pygments_lexer": "ipython3",
   "version": "3.6.5"
  }
 },
 "nbformat": 4,
 "nbformat_minor": 2
}
